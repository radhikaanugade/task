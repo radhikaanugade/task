{
 "cells": [
  {
   "cell_type": "code",
   "execution_count": 1,
   "id": "7447b4e2-ea85-449b-9071-2dee13bb5eec",
   "metadata": {},
   "outputs": [],
   "source": [
    "import numpy as np"
   ]
  },
  {
   "cell_type": "markdown",
   "id": "9e317aa2-5927-45ba-bea2-78eaf143200a",
   "metadata": {},
   "source": [
    "# Create a 1D Numpy array of numbers from 1 to 9"
   ]
  },
  {
   "cell_type": "code",
   "execution_count": 2,
   "id": "488ce6a1-ffac-46d3-bd19-00c05b5ba2a2",
   "metadata": {},
   "outputs": [
    {
     "data": {
      "text/plain": [
       "[1, 2, 3, 4, 5, 6, 7, 8, 9, 10]"
      ]
     },
     "execution_count": 2,
     "metadata": {},
     "output_type": "execute_result"
    }
   ],
   "source": [
    "lst = [1,2,3,4,5,6,7,8,9,10]\n",
    "a1=np.array(lst)\n",
    "lst"
   ]
  },
  {
   "cell_type": "markdown",
   "id": "b9c9a6c1-f8a0-4d0a-8c31-abb889a18398",
   "metadata": {},
   "source": [
    "# Create a 2D array of shape (3,3) with all elements as 1."
   ]
  },
  {
   "cell_type": "code",
   "execution_count": 3,
   "id": "c33ed567-cd6c-44d7-9dcc-6a6358d037c3",
   "metadata": {},
   "outputs": [
    {
     "data": {
      "text/plain": [
       "array([0, 1, 2, 3, 4, 5, 6, 7, 8, 9])"
      ]
     },
     "execution_count": 3,
     "metadata": {},
     "output_type": "execute_result"
    }
   ],
   "source": [
    "ar1=np.arange(10)\n",
    "ar1"
   ]
  },
  {
   "cell_type": "code",
   "execution_count": 5,
   "id": "7f4e25a7-08ed-4978-a065-026b3723186c",
   "metadata": {},
   "outputs": [
    {
     "name": "stdout",
     "output_type": "stream",
     "text": [
      "[[1. 1. 1.]\n",
      " [1. 1. 1.]\n",
      " [1. 1. 1.]]\n"
     ]
    }
   ],
   "source": [
    "ar1=np.ones((3,3))\n",
    "print(ar1)"
   ]
  },
  {
   "cell_type": "markdown",
   "id": "6a085800-78a7-4552-98fb-10ea3c50ea93",
   "metadata": {},
   "source": [
    "# Generate a Numpy array of 15 random integers between 10 and 50."
   ]
  },
  {
   "cell_type": "markdown",
   "id": "2a45ccf8-9b4d-4f09-822f-efe9aead20d4",
   "metadata": {},
   "source": [
    "ar2=np.random.randint(10,51,size=15)\n",
    "print(ar2)"
   ]
  },
  {
   "cell_type": "markdown",
   "id": "b75eb7d8-3a0d-4eb5-b6b1-e2a4113f5daa",
   "metadata": {},
   "source": [
    "# Create an array of 5 evenly spaced between 0 to 1(inclusive)."
   ]
  },
  {
   "cell_type": "code",
   "execution_count": 8,
   "id": "0432953c-0367-4905-84fb-eb10a23125d1",
   "metadata": {},
   "outputs": [
    {
     "name": "stdout",
     "output_type": "stream",
     "text": [
      "[0.   0.25 0.5  0.75 1.  ]\n"
     ]
    }
   ],
   "source": [
    "ar3=np.linspace(0,1,5)\n",
    "print(ar3)"
   ]
  },
  {
   "cell_type": "markdown",
   "id": "96dff656-7743-4dcb-8a86-7dc7262fb145",
   "metadata": {},
   "source": [
    "# Create a 4*4 identity matrix using Numpy."
   ]
  },
  {
   "cell_type": "code",
   "execution_count": 13,
   "id": "552b1faa-6898-4e51-9c02-f54d77102f27",
   "metadata": {},
   "outputs": [
    {
     "data": {
      "text/plain": [
       "array([[1, 2, 3, 4],\n",
       "       [5, 6, 7, 8],\n",
       "       [9, 6, 8, 9],\n",
       "       [3, 6, 7, 8]])"
      ]
     },
     "execution_count": 13,
     "metadata": {},
     "output_type": "execute_result"
    }
   ],
   "source": [
    "a1=np.array([1,2,3,4,5,6,7,8,9,6,8,9,3,6,7,8]).reshape(4,4)\n",
    "a1"
   ]
  },
  {
   "cell_type": "markdown",
   "id": "921bd626-5d6a-49b9-9cad-79b995d65dec",
   "metadata": {},
   "source": [
    "# Create an array from list[10,20,30,40] and change the datatype into float."
   ]
  },
  {
   "cell_type": "code",
   "execution_count": 19,
   "id": "1e564505-4f1d-4c1e-82dc-e47fc0060e1e",
   "metadata": {},
   "outputs": [
    {
     "name": "stdout",
     "output_type": "stream",
     "text": [
      "[10. 20. 30. 40.]\n"
     ]
    }
   ],
   "source": [
    "arr2=np.array([10,20,30,40],dtype=np.float64)\n",
    "print(arr2)"
   ]
  },
  {
   "cell_type": "markdown",
   "id": "f3ca602c-9f8e-47e2-8980-bdd6c00de031",
   "metadata": {},
   "source": [
    "# Create a 3*3 array with values from 1 to 9,then extract the second column."
   ]
  },
  {
   "cell_type": "code",
   "execution_count": 21,
   "id": "a33af9b9-3c52-46fb-a65a-1ba40a11404a",
   "metadata": {},
   "outputs": [
    {
     "name": "stdout",
     "output_type": "stream",
     "text": [
      "[2 5 8]\n"
     ]
    }
   ],
   "source": [
    "arr=np.arange(1,10).reshape(3,3)\n",
    "arr2=arr[:,1]\n",
    "print(arr2)"
   ]
  },
  {
   "cell_type": "markdown",
   "id": "46d0721b-385a-4b1d-ad98-5ae1da37e4b9",
   "metadata": {},
   "source": [
    "# Create a 1D array with 10 elements and reshape into 2*5 matrix."
   ]
  },
  {
   "cell_type": "code",
   "execution_count": 24,
   "id": "4bb177fc-25f3-4c73-8fc6-dee847b49efa",
   "metadata": {},
   "outputs": [
    {
     "name": "stdout",
     "output_type": "stream",
     "text": [
      "[[ 1  2  3  4  5]\n",
      " [ 6  7  8  9 10]]\n"
     ]
    }
   ],
   "source": [
    "arr2=np.arange(1,11)\n",
    "arr3=arr2.reshape(2,5)\n",
    "print(arr3)"
   ]
  },
  {
   "cell_type": "markdown",
   "id": "20999f17-d737-482c-b8ad-7b1060ac0d4f",
   "metadata": {},
   "source": [
    "# Create two 2*2 matrices and perform matrix multiplication."
   ]
  },
  {
   "cell_type": "code",
   "execution_count": 25,
   "id": "a1aa68e5-3ced-440a-905b-142830e4dd36",
   "metadata": {},
   "outputs": [
    {
     "name": "stdout",
     "output_type": "stream",
     "text": [
      "[[19 22]\n",
      " [43 50]]\n"
     ]
    }
   ],
   "source": [
    "a=np.array([[1,2],\n",
    "            [3,4]])\n",
    "b=np.array ([[5,6],\n",
    "             [7,8]])\n",
    "result=np.dot(a,b)\n",
    "print(result)"
   ]
  },
  {
   "cell_type": "markdown",
   "id": "a64eb202-f639-42f6-ac6b-e3d2b1a8cf32",
   "metadata": {},
   "source": [
    "# Given the array arr= np.array([5,12,7,18,3]).replace all values greater then 10 with 100."
   ]
  },
  {
   "cell_type": "code",
   "execution_count": 26,
   "id": "ef8161a6-b742-4221-8265-44120bb38b6a",
   "metadata": {},
   "outputs": [
    {
     "name": "stdout",
     "output_type": "stream",
     "text": [
      "[  5 100   7 100   3]\n"
     ]
    }
   ],
   "source": [
    "arr5=np.array([5,12,7,18,3])\n",
    "arr5[arr5 > 10]=100\n",
    "print(arr5)"
   ]
  },
  {
   "cell_type": "code",
   "execution_count": null,
   "id": "68a23f5c-bf20-4b25-9d65-8249fda01947",
   "metadata": {},
   "outputs": [],
   "source": []
  }
 ],
 "metadata": {
  "kernelspec": {
   "display_name": "Python [conda env:base] *",
   "language": "python",
   "name": "conda-base-py"
  },
  "language_info": {
   "codemirror_mode": {
    "name": "ipython",
    "version": 3
   },
   "file_extension": ".py",
   "mimetype": "text/x-python",
   "name": "python",
   "nbconvert_exporter": "python",
   "pygments_lexer": "ipython3",
   "version": "3.12.7"
  }
 },
 "nbformat": 4,
 "nbformat_minor": 5
}
